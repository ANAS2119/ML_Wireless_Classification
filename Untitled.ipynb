{
 "cells": [
  {
   "cell_type": "code",
   "execution_count": 13,
   "id": "ac5a7194-284f-40e5-83aa-5da41a87dd18",
   "metadata": {},
   "outputs": [],
   "source": [
    "#pip install git+https://github.com/brysef/rfml.git@1.0.1"
   ]
  },
  {
   "cell_type": "code",
   "execution_count": 17,
   "id": "8500ec9d-ef4c-4d73-90e6-5c50de25c8b4",
   "metadata": {},
   "outputs": [],
   "source": [
    "# IPython Includes (just for documentation)\n",
    "from IPython.display import Image\n",
    "\n",
    "# Ensure that the least loaded GPU is used\n",
    "import setGPU\n",
    "\n",
    "# Plotting Includes\n",
    "import matplotlib.pyplot as plt\n",
    "import seaborn as sns\n",
    "sns.set_style(\"whitegrid\")\n",
    "import os\n",
    "\n",
    "# External Includes\n",
    "import numpy as np\n",
    "from pprint import pprint\n",
    "from collections import defaultdict\n",
    "import tarfile\n",
    "from urllib.request import urlretrieve\n",
    "from warnings import warn\n",
    "import pickle\n",
    "\n",
    "from torch.autograd import Variable\n",
    "import torch.nn as nn\n",
    "from torch.optim import Adam\n",
    "from torch.utils.data import DataLoader\n",
    "from typing import Tuple, Dict\n",
    "\n",
    "# Internal Includes\n",
    "from rfml.data import Dataset, Encoder\n",
    "from rfml.data.converters import load_RML201610A_dataset\n",
    "from rfml.data import Dataset, DatasetBuilder\n",
    "\n",
    "\n",
    "from rfml.nbutils import plot_acc_vs_snr, plot_confusion, plot_convergence, plot_IQ\n",
    "\n",
    "from rfml.nn.eval import compute_accuracy, compute_accuracy_on_cross_sections, compute_confusion\n",
    "from rfml.nn.model import Model"
   ]
  },
  {
   "cell_type": "code",
   "execution_count": 19,
   "id": "4f49ec1f-c471-4b6b-9c0e-0a9d3f2d5695",
   "metadata": {},
   "outputs": [],
   "source": [
    "class RML2016DataLoader(object):\n",
    "    def __init__(\n",
    "        self, cache_path: str, remote_url: str, unpickled_path: str, warning_msg: str\n",
    "    ):\n",
    "        self.CACHE_PATH = cache_path\n",
    "        self.REMOTE_URL = remote_url\n",
    "        self.UNPICKLED_PATH = unpickled_path\n",
    "        self.WARNING_MSG = warning_msg\n",
    "        \n",
    "    def load(self, path: str):\n",
    "        if path is not None:\n",
    "            if not os.path.exists(path):\n",
    "                raise ValueError(\n",
    "                    \"If path is provided, it must actually exist.  Provided path: \"\n",
    "                    \"{}\".format(path)\n",
    "                )\n",
    "            return self._load_local(path=path)\n",
    "            \n",
    "        if os.path.exists(self.UNPICKLED_PATH):\n",
    "            return self._load_local(self.UNPICKLED_PATH)\n",
    "            \n",
    "        warn(self.WARNING_MSG)\n",
    "        self._download()\n",
    "        return self._load_local(self.UNPICKLED_PATH)\n",
    "\n",
    "    def _load_local(self, path: str) -> Dataset:\n",
    "        builder = DatasetBuilder()\n",
    "        data, description = self._read(path)\n",
    "        for mod, snrs in description.items():\n",
    "            for snr in snrs:\n",
    "                for iq in data[(mod, snr)]:\n",
    "                    builder.add(iq=iq, Modulation=mod, SNR=snr)\n",
    "        return builder.build()\n",
    "\n",
    "    def _download(self):\n",
    "        urlretrieve(self.REMOTE_URL, self.CACHE_PATH)\n",
    "        with tarfile.open(self.CACHE_PATH, \"r:bz2\") as tar:\n",
    "            tar.extractall()\n",
    "\n",
    "    def _read(self, path: str) -> Tuple[np.ndarray, Dict]:\n",
    "        with open(path, \"rb\") as infile:\n",
    "            data = pickle.load(infile, encoding=\"latin\")\n",
    "\n",
    "            description = defaultdict(list)\n",
    "            # Declare j just to get the linter to stop complaining about the lamba below\n",
    "            j = None\n",
    "            snrs, mods = map(\n",
    "                lambda j: sorted(list(set(map(lambda x: x[j], data.keys())))), [1, 0]\n",
    "            )\n",
    "            for mod in mods:\n",
    "                for snr in snrs:\n",
    "                    description[mod].append(snr)\n",
    "\n",
    "            return data, description\n",
    "\n",
    "    "
   ]
  },
  {
   "cell_type": "code",
   "execution_count": 21,
   "id": "8a5d4431-3626-46f6-a0e2-c8b55da78835",
   "metadata": {},
   "outputs": [],
   "source": [
    "def load_RML201610A_dataset(path: str = None) -> Dataset:\n",
    "    CACHE_PATH = \"./RML2016.10a.tar.bz2\"\n",
    "    WARNING_MSG = \"\"\"\n",
    "    About to attempt downloading the RML2016.10A dataset from deepsig.io/datasets.\n",
    "    Depending on your network connection, this process can be slow and error prone.  Any\n",
    "    errors raised during network operations are not silenced and will therefore cause your\n",
    "    code to crash.  If you require robustness in your experimentation, you should manually\n",
    "    download the file locally and pass the file path to the load_RML201610a_dataset\n",
    "    function.\n",
    "\n",
    "    Further, this dataset is provided by DeepSig Inc. under Creative Commons Attribution\n",
    "    - NonCommercial - ShareAlike 4.0 License (CC BY-NC-SA 4.0).  By calling this function,\n",
    "    you agree to that license -- If an alternative license is needed, please contact DeepSig\n",
    "    Inc. at info@deepsig.io\n",
    "    \"\"\"\n",
    "    REMOTE_URL = \"http://opendata.deepsig.io/datasets/2016.10/RML2016.10a.tar.bz2\"\n",
    "    UNPICKLED_PATH = \"RML2016.10a_dict.pkl\"\n",
    "\n",
    "    loader = RML2016DataLoader(\n",
    "        cache_path=CACHE_PATH,\n",
    "        remote_url=REMOTE_URL,\n",
    "        unpickled_path=UNPICKLED_PATH,\n",
    "        warning_msg=WARNING_MSG,\n",
    "    )\n",
    "    return loader.load(path=path)"
   ]
  },
  {
   "cell_type": "code",
   "execution_count": 7,
   "id": "739a7b7b-1bf2-47c5-b82f-35be58c0816a",
   "metadata": {},
   "outputs": [],
   "source": [
    "data_path=\"RML2016.10a_dict.pkl\""
   ]
  },
  {
   "cell_type": "code",
   "execution_count": 205,
   "id": "1b85f45c-ff35-4bc9-9bac-23e76c37bd55",
   "metadata": {},
   "outputs": [
    {
     "name": "stdout",
     "output_type": "stream",
     "text": [
      "Help on function _read in module __main__:\n",
      "\n",
      "_read(self, path: str) -> Tuple[numpy.ndarray, Dict]\n",
      "\n"
     ]
    }
   ],
   "source": [
    "help (_read)"
   ]
  },
  {
   "cell_type": "code",
   "execution_count": 23,
   "id": "071ce3ec-8ffa-44d0-af37-6b840c8f63f9",
   "metadata": {},
   "outputs": [
    {
     "ename": "ValueError",
     "evalue": "columns cannot be a set",
     "output_type": "error",
     "traceback": [
      "\u001b[1;31m---------------------------------------------------------------------------\u001b[0m",
      "\u001b[1;31mValueError\u001b[0m                                Traceback (most recent call last)",
      "\u001b[1;32m~\\AppData\\Local\\Temp\\ipykernel_54668\\3194381778.py\u001b[0m in \u001b[0;36m?\u001b[1;34m()\u001b[0m\n\u001b[1;32m----> 1\u001b[1;33m \u001b[0mload_RML201610A_dataset\u001b[0m\u001b[1;33m(\u001b[0m\u001b[0mpath\u001b[0m\u001b[1;33m=\u001b[0m\u001b[0mdata_path\u001b[0m\u001b[1;33m)\u001b[0m\u001b[1;33m\u001b[0m\u001b[1;33m\u001b[0m\u001b[0m\n\u001b[0m",
      "\u001b[1;32m~\\AppData\\Local\\Temp\\ipykernel_54668\\257125434.py\u001b[0m in \u001b[0;36m?\u001b[1;34m(path)\u001b[0m\n\u001b[0;32m     21\u001b[0m         \u001b[0mremote_url\u001b[0m\u001b[1;33m=\u001b[0m\u001b[0mREMOTE_URL\u001b[0m\u001b[1;33m,\u001b[0m\u001b[1;33m\u001b[0m\u001b[1;33m\u001b[0m\u001b[0m\n\u001b[0;32m     22\u001b[0m         \u001b[0munpickled_path\u001b[0m\u001b[1;33m=\u001b[0m\u001b[0mUNPICKLED_PATH\u001b[0m\u001b[1;33m,\u001b[0m\u001b[1;33m\u001b[0m\u001b[1;33m\u001b[0m\u001b[0m\n\u001b[0;32m     23\u001b[0m         \u001b[0mwarning_msg\u001b[0m\u001b[1;33m=\u001b[0m\u001b[0mWARNING_MSG\u001b[0m\u001b[1;33m,\u001b[0m\u001b[1;33m\u001b[0m\u001b[1;33m\u001b[0m\u001b[0m\n\u001b[0;32m     24\u001b[0m     \u001b[1;33m)\u001b[0m\u001b[1;33m\u001b[0m\u001b[1;33m\u001b[0m\u001b[0m\n\u001b[1;32m---> 25\u001b[1;33m     \u001b[1;32mreturn\u001b[0m \u001b[0mloader\u001b[0m\u001b[1;33m.\u001b[0m\u001b[0mload\u001b[0m\u001b[1;33m(\u001b[0m\u001b[0mpath\u001b[0m\u001b[1;33m=\u001b[0m\u001b[0mpath\u001b[0m\u001b[1;33m)\u001b[0m\u001b[1;33m\u001b[0m\u001b[1;33m\u001b[0m\u001b[0m\n\u001b[0m",
      "\u001b[1;32m~\\AppData\\Local\\Temp\\ipykernel_54668\\3476805774.py\u001b[0m in \u001b[0;36m?\u001b[1;34m(self, path)\u001b[0m\n\u001b[0;32m     13\u001b[0m                 raise ValueError(\n\u001b[0;32m     14\u001b[0m                     \u001b[1;34m\"If path is provided, it must actually exist.  Provided path: \"\u001b[0m\u001b[1;33m\u001b[0m\u001b[1;33m\u001b[0m\u001b[0m\n\u001b[0;32m     15\u001b[0m                     \u001b[1;34m\"{}\"\u001b[0m\u001b[1;33m.\u001b[0m\u001b[0mformat\u001b[0m\u001b[1;33m(\u001b[0m\u001b[0mpath\u001b[0m\u001b[1;33m)\u001b[0m\u001b[1;33m\u001b[0m\u001b[1;33m\u001b[0m\u001b[0m\n\u001b[0;32m     16\u001b[0m                 \u001b[1;33m)\u001b[0m\u001b[1;33m\u001b[0m\u001b[1;33m\u001b[0m\u001b[0m\n\u001b[1;32m---> 17\u001b[1;33m             \u001b[1;32mreturn\u001b[0m \u001b[0mself\u001b[0m\u001b[1;33m.\u001b[0m\u001b[0m_load_local\u001b[0m\u001b[1;33m(\u001b[0m\u001b[0mpath\u001b[0m\u001b[1;33m=\u001b[0m\u001b[0mpath\u001b[0m\u001b[1;33m)\u001b[0m\u001b[1;33m\u001b[0m\u001b[1;33m\u001b[0m\u001b[0m\n\u001b[0m\u001b[0;32m     18\u001b[0m \u001b[1;33m\u001b[0m\u001b[0m\n\u001b[0;32m     19\u001b[0m         \u001b[1;32mif\u001b[0m \u001b[0mos\u001b[0m\u001b[1;33m.\u001b[0m\u001b[0mpath\u001b[0m\u001b[1;33m.\u001b[0m\u001b[0mexists\u001b[0m\u001b[1;33m(\u001b[0m\u001b[0mself\u001b[0m\u001b[1;33m.\u001b[0m\u001b[0mUNPICKLED_PATH\u001b[0m\u001b[1;33m)\u001b[0m\u001b[1;33m:\u001b[0m\u001b[1;33m\u001b[0m\u001b[1;33m\u001b[0m\u001b[0m\n\u001b[0;32m     20\u001b[0m             \u001b[1;32mreturn\u001b[0m \u001b[0mself\u001b[0m\u001b[1;33m.\u001b[0m\u001b[0m_load_local\u001b[0m\u001b[1;33m(\u001b[0m\u001b[0mself\u001b[0m\u001b[1;33m.\u001b[0m\u001b[0mUNPICKLED_PATH\u001b[0m\u001b[1;33m)\u001b[0m\u001b[1;33m\u001b[0m\u001b[1;33m\u001b[0m\u001b[0m\n",
      "\u001b[1;32m~\\AppData\\Local\\Temp\\ipykernel_54668\\3476805774.py\u001b[0m in \u001b[0;36m?\u001b[1;34m(self, path)\u001b[0m\n\u001b[0;32m     29\u001b[0m         \u001b[1;32mfor\u001b[0m \u001b[0mmod\u001b[0m\u001b[1;33m,\u001b[0m \u001b[0msnrs\u001b[0m \u001b[1;32min\u001b[0m \u001b[0mdescription\u001b[0m\u001b[1;33m.\u001b[0m\u001b[0mitems\u001b[0m\u001b[1;33m(\u001b[0m\u001b[1;33m)\u001b[0m\u001b[1;33m:\u001b[0m\u001b[1;33m\u001b[0m\u001b[1;33m\u001b[0m\u001b[0m\n\u001b[0;32m     30\u001b[0m             \u001b[1;32mfor\u001b[0m \u001b[0msnr\u001b[0m \u001b[1;32min\u001b[0m \u001b[0msnrs\u001b[0m\u001b[1;33m:\u001b[0m\u001b[1;33m\u001b[0m\u001b[1;33m\u001b[0m\u001b[0m\n\u001b[0;32m     31\u001b[0m                 \u001b[1;32mfor\u001b[0m \u001b[0miq\u001b[0m \u001b[1;32min\u001b[0m \u001b[0mdata\u001b[0m\u001b[1;33m[\u001b[0m\u001b[1;33m(\u001b[0m\u001b[0mmod\u001b[0m\u001b[1;33m,\u001b[0m \u001b[0msnr\u001b[0m\u001b[1;33m)\u001b[0m\u001b[1;33m]\u001b[0m\u001b[1;33m:\u001b[0m\u001b[1;33m\u001b[0m\u001b[1;33m\u001b[0m\u001b[0m\n\u001b[0;32m     32\u001b[0m                     \u001b[0mbuilder\u001b[0m\u001b[1;33m.\u001b[0m\u001b[0madd\u001b[0m\u001b[1;33m(\u001b[0m\u001b[0miq\u001b[0m\u001b[1;33m=\u001b[0m\u001b[0miq\u001b[0m\u001b[1;33m,\u001b[0m \u001b[0mModulation\u001b[0m\u001b[1;33m=\u001b[0m\u001b[0mmod\u001b[0m\u001b[1;33m,\u001b[0m \u001b[0mSNR\u001b[0m\u001b[1;33m=\u001b[0m\u001b[0msnr\u001b[0m\u001b[1;33m)\u001b[0m\u001b[1;33m\u001b[0m\u001b[1;33m\u001b[0m\u001b[0m\n\u001b[1;32m---> 33\u001b[1;33m         \u001b[1;32mreturn\u001b[0m \u001b[0mbuilder\u001b[0m\u001b[1;33m.\u001b[0m\u001b[0mbuild\u001b[0m\u001b[1;33m(\u001b[0m\u001b[1;33m)\u001b[0m\u001b[1;33m\u001b[0m\u001b[1;33m\u001b[0m\u001b[0m\n\u001b[0m",
      "\u001b[1;32m~\\anaconda3\\Lib\\site-packages\\rfml\\data\\dataset_builder.py\u001b[0m in \u001b[0;36m?\u001b[1;34m(self)\u001b[0m\n\u001b[0;32m    152\u001b[0m \u001b[1;33m\u001b[0m\u001b[0m\n\u001b[0;32m    153\u001b[0m         \u001b[0mReturns\u001b[0m\u001b[1;33m:\u001b[0m\u001b[1;33m\u001b[0m\u001b[1;33m\u001b[0m\u001b[0m\n\u001b[0;32m    154\u001b[0m             \u001b[0mDataset\u001b[0m\u001b[1;33m:\u001b[0m \u001b[0mA\u001b[0m \u001b[0mcompiled\u001b[0m \u001b[0mdataset\u001b[0m \u001b[0mconsisting\u001b[0m \u001b[0mof\u001b[0m \u001b[0mthe\u001b[0m \u001b[0madded\u001b[0m \u001b[0mexamples\u001b[0m\u001b[1;33m.\u001b[0m\u001b[1;33m\u001b[0m\u001b[1;33m\u001b[0m\u001b[0m\n\u001b[0;32m    155\u001b[0m         \"\"\"\n\u001b[1;32m--> 156\u001b[1;33m         \u001b[0mdf\u001b[0m \u001b[1;33m=\u001b[0m \u001b[0mpd\u001b[0m\u001b[1;33m.\u001b[0m\u001b[0mDataFrame\u001b[0m\u001b[1;33m(\u001b[0m\u001b[0mself\u001b[0m\u001b[1;33m.\u001b[0m\u001b[0m_rows\u001b[0m\u001b[1;33m,\u001b[0m \u001b[0mcolumns\u001b[0m\u001b[1;33m=\u001b[0m\u001b[0mself\u001b[0m\u001b[1;33m.\u001b[0m\u001b[0m_keys\u001b[0m\u001b[1;33m)\u001b[0m\u001b[1;33m\u001b[0m\u001b[1;33m\u001b[0m\u001b[0m\n\u001b[0m\u001b[0;32m    157\u001b[0m         \u001b[1;32mreturn\u001b[0m \u001b[0mDataset\u001b[0m\u001b[1;33m(\u001b[0m\u001b[0mdf\u001b[0m\u001b[1;33m)\u001b[0m\u001b[1;33m\u001b[0m\u001b[1;33m\u001b[0m\u001b[0m\n",
      "\u001b[1;32m~\\anaconda3\\Lib\\site-packages\\pandas\\core\\frame.py\u001b[0m in \u001b[0;36m?\u001b[1;34m(self, data, index, columns, dtype, copy)\u001b[0m\n\u001b[0;32m    740\u001b[0m         \u001b[1;31m# GH47215\u001b[0m\u001b[1;33m\u001b[0m\u001b[1;33m\u001b[0m\u001b[0m\n\u001b[0;32m    741\u001b[0m         \u001b[1;32mif\u001b[0m \u001b[0misinstance\u001b[0m\u001b[1;33m(\u001b[0m\u001b[0mindex\u001b[0m\u001b[1;33m,\u001b[0m \u001b[0mset\u001b[0m\u001b[1;33m)\u001b[0m\u001b[1;33m:\u001b[0m\u001b[1;33m\u001b[0m\u001b[1;33m\u001b[0m\u001b[0m\n\u001b[0;32m    742\u001b[0m             \u001b[1;32mraise\u001b[0m \u001b[0mValueError\u001b[0m\u001b[1;33m(\u001b[0m\u001b[1;34m\"index cannot be a set\"\u001b[0m\u001b[1;33m)\u001b[0m\u001b[1;33m\u001b[0m\u001b[1;33m\u001b[0m\u001b[0m\n\u001b[0;32m    743\u001b[0m         \u001b[1;32mif\u001b[0m \u001b[0misinstance\u001b[0m\u001b[1;33m(\u001b[0m\u001b[0mcolumns\u001b[0m\u001b[1;33m,\u001b[0m \u001b[0mset\u001b[0m\u001b[1;33m)\u001b[0m\u001b[1;33m:\u001b[0m\u001b[1;33m\u001b[0m\u001b[1;33m\u001b[0m\u001b[0m\n\u001b[1;32m--> 744\u001b[1;33m             \u001b[1;32mraise\u001b[0m \u001b[0mValueError\u001b[0m\u001b[1;33m(\u001b[0m\u001b[1;34m\"columns cannot be a set\"\u001b[0m\u001b[1;33m)\u001b[0m\u001b[1;33m\u001b[0m\u001b[1;33m\u001b[0m\u001b[0m\n\u001b[0m\u001b[0;32m    745\u001b[0m \u001b[1;33m\u001b[0m\u001b[0m\n\u001b[0;32m    746\u001b[0m         \u001b[1;32mif\u001b[0m \u001b[0mcopy\u001b[0m \u001b[1;32mis\u001b[0m \u001b[1;32mNone\u001b[0m\u001b[1;33m:\u001b[0m\u001b[1;33m\u001b[0m\u001b[1;33m\u001b[0m\u001b[0m\n\u001b[0;32m    747\u001b[0m             \u001b[1;32mif\u001b[0m \u001b[0misinstance\u001b[0m\u001b[1;33m(\u001b[0m\u001b[0mdata\u001b[0m\u001b[1;33m,\u001b[0m \u001b[0mdict\u001b[0m\u001b[1;33m)\u001b[0m\u001b[1;33m:\u001b[0m\u001b[1;33m\u001b[0m\u001b[1;33m\u001b[0m\u001b[0m\n",
      "\u001b[1;31mValueError\u001b[0m: columns cannot be a set"
     ]
    }
   ],
   "source": [
    "load_RML201610A_dataset(path=data_path)"
   ]
  },
  {
   "cell_type": "code",
   "execution_count": null,
   "id": "2a293acd-255d-4c2a-849e-2a885143d4f7",
   "metadata": {},
   "outputs": [
    {
     "name": "stdout",
     "output_type": "stream",
     "text": [
      "> \u001b[1;32mc:\\users\\anasa\\anaconda3\\lib\\site-packages\\pandas\\core\\frame.py\u001b[0m(744)\u001b[0;36m__init__\u001b[1;34m()\u001b[0m\n",
      "\u001b[1;32m    742 \u001b[1;33m            \u001b[1;32mraise\u001b[0m \u001b[0mValueError\u001b[0m\u001b[1;33m(\u001b[0m\u001b[1;34m\"index cannot be a set\"\u001b[0m\u001b[1;33m)\u001b[0m\u001b[1;33m\u001b[0m\u001b[1;33m\u001b[0m\u001b[0m\n",
      "\u001b[0m\u001b[1;32m    743 \u001b[1;33m        \u001b[1;32mif\u001b[0m \u001b[0misinstance\u001b[0m\u001b[1;33m(\u001b[0m\u001b[0mcolumns\u001b[0m\u001b[1;33m,\u001b[0m \u001b[0mset\u001b[0m\u001b[1;33m)\u001b[0m\u001b[1;33m:\u001b[0m\u001b[1;33m\u001b[0m\u001b[1;33m\u001b[0m\u001b[0m\n",
      "\u001b[0m\u001b[1;32m--> 744 \u001b[1;33m            \u001b[1;32mraise\u001b[0m \u001b[0mValueError\u001b[0m\u001b[1;33m(\u001b[0m\u001b[1;34m\"columns cannot be a set\"\u001b[0m\u001b[1;33m)\u001b[0m\u001b[1;33m\u001b[0m\u001b[1;33m\u001b[0m\u001b[0m\n",
      "\u001b[0m\u001b[1;32m    745 \u001b[1;33m\u001b[1;33m\u001b[0m\u001b[0m\n",
      "\u001b[0m\u001b[1;32m    746 \u001b[1;33m        \u001b[1;32mif\u001b[0m \u001b[0mcopy\u001b[0m \u001b[1;32mis\u001b[0m \u001b[1;32mNone\u001b[0m\u001b[1;33m:\u001b[0m\u001b[1;33m\u001b[0m\u001b[1;33m\u001b[0m\u001b[0m\n",
      "\u001b[0m\n"
     ]
    },
    {
     "name": "stdin",
     "output_type": "stream",
     "text": [
      "ipdb>  u\n"
     ]
    },
    {
     "name": "stdout",
     "output_type": "stream",
     "text": [
      "> \u001b[1;32mc:\\users\\anasa\\anaconda3\\lib\\site-packages\\rfml\\data\\dataset_builder.py\u001b[0m(156)\u001b[0;36mbuild\u001b[1;34m()\u001b[0m\n",
      "\u001b[1;32m    153 \u001b[1;33m        \u001b[0mReturns\u001b[0m\u001b[1;33m:\u001b[0m\u001b[1;33m\u001b[0m\u001b[1;33m\u001b[0m\u001b[0m\n",
      "\u001b[0m\u001b[1;32m    154 \u001b[1;33m            \u001b[0mDataset\u001b[0m\u001b[1;33m:\u001b[0m \u001b[0mA\u001b[0m \u001b[0mcompiled\u001b[0m \u001b[0mdataset\u001b[0m \u001b[0mconsisting\u001b[0m \u001b[0mof\u001b[0m \u001b[0mthe\u001b[0m \u001b[0madded\u001b[0m \u001b[0mexamples\u001b[0m\u001b[1;33m.\u001b[0m\u001b[1;33m\u001b[0m\u001b[1;33m\u001b[0m\u001b[0m\n",
      "\u001b[0m\u001b[1;32m    155 \u001b[1;33m        \"\"\"\n",
      "\u001b[0m\u001b[1;32m--> 156 \u001b[1;33m        \u001b[0mdf\u001b[0m \u001b[1;33m=\u001b[0m \u001b[0mpd\u001b[0m\u001b[1;33m.\u001b[0m\u001b[0mDataFrame\u001b[0m\u001b[1;33m(\u001b[0m\u001b[0mself\u001b[0m\u001b[1;33m.\u001b[0m\u001b[0m_rows\u001b[0m\u001b[1;33m,\u001b[0m \u001b[0mcolumns\u001b[0m\u001b[1;33m=\u001b[0m\u001b[0mself\u001b[0m\u001b[1;33m.\u001b[0m\u001b[0m_keys\u001b[0m\u001b[1;33m)\u001b[0m\u001b[1;33m\u001b[0m\u001b[1;33m\u001b[0m\u001b[0m\n",
      "\u001b[0m\u001b[1;32m    157 \u001b[1;33m        \u001b[1;32mreturn\u001b[0m \u001b[0mDataset\u001b[0m\u001b[1;33m(\u001b[0m\u001b[0mdf\u001b[0m\u001b[1;33m)\u001b[0m\u001b[1;33m\u001b[0m\u001b[1;33m\u001b[0m\u001b[0m\n",
      "\u001b[0m\n"
     ]
    },
    {
     "name": "stdin",
     "output_type": "stream",
     "text": [
      "ipdb>  u\n"
     ]
    },
    {
     "name": "stdout",
     "output_type": "stream",
     "text": [
      "> \u001b[1;32mc:\\users\\anasa\\appdata\\local\\temp\\ipykernel_54668\\3476805774.py\u001b[0m(33)\u001b[0;36m_load_local\u001b[1;34m()\u001b[0m\n",
      "\n"
     ]
    },
    {
     "name": "stdin",
     "output_type": "stream",
     "text": [
      "ipdb>  u\n"
     ]
    },
    {
     "name": "stdout",
     "output_type": "stream",
     "text": [
      "> \u001b[1;32mc:\\users\\anasa\\appdata\\local\\temp\\ipykernel_54668\\3476805774.py\u001b[0m(17)\u001b[0;36mload\u001b[1;34m()\u001b[0m\n",
      "\n"
     ]
    },
    {
     "name": "stdin",
     "output_type": "stream",
     "text": [
      "ipdb>  u\n"
     ]
    },
    {
     "name": "stdout",
     "output_type": "stream",
     "text": [
      "> \u001b[1;32mc:\\users\\anasa\\appdata\\local\\temp\\ipykernel_54668\\257125434.py\u001b[0m(25)\u001b[0;36mload_RML201610A_dataset\u001b[1;34m()\u001b[0m\n",
      "\n"
     ]
    },
    {
     "name": "stdin",
     "output_type": "stream",
     "text": [
      "ipdb>  uu\n"
     ]
    },
    {
     "name": "stdout",
     "output_type": "stream",
     "text": [
      "*** NameError: name 'uu' is not defined. Did you forget to import 'uu'\n"
     ]
    },
    {
     "name": "stdin",
     "output_type": "stream",
     "text": [
      "ipdb>  u\n"
     ]
    },
    {
     "name": "stdout",
     "output_type": "stream",
     "text": [
      "> \u001b[1;32mc:\\users\\anasa\\appdata\\local\\temp\\ipykernel_54668\\3194381778.py\u001b[0m(1)\u001b[0;36m<module>\u001b[1;34m()\u001b[0m\n",
      "\n"
     ]
    },
    {
     "name": "stdin",
     "output_type": "stream",
     "text": [
      "ipdb>  d\n"
     ]
    },
    {
     "name": "stdout",
     "output_type": "stream",
     "text": [
      "> \u001b[1;32mc:\\users\\anasa\\appdata\\local\\temp\\ipykernel_54668\\257125434.py\u001b[0m(25)\u001b[0;36mload_RML201610A_dataset\u001b[1;34m()\u001b[0m\n",
      "\n"
     ]
    },
    {
     "name": "stdin",
     "output_type": "stream",
     "text": [
      "ipdb>  d\n"
     ]
    },
    {
     "name": "stdout",
     "output_type": "stream",
     "text": [
      "> \u001b[1;32mc:\\users\\anasa\\appdata\\local\\temp\\ipykernel_54668\\3476805774.py\u001b[0m(17)\u001b[0;36mload\u001b[1;34m()\u001b[0m\n",
      "\n"
     ]
    },
    {
     "name": "stdin",
     "output_type": "stream",
     "text": [
      "ipdb>  d\n"
     ]
    },
    {
     "name": "stdout",
     "output_type": "stream",
     "text": [
      "> \u001b[1;32mc:\\users\\anasa\\appdata\\local\\temp\\ipykernel_54668\\3476805774.py\u001b[0m(33)\u001b[0;36m_load_local\u001b[1;34m()\u001b[0m\n",
      "\n"
     ]
    },
    {
     "name": "stdin",
     "output_type": "stream",
     "text": [
      "ipdb>  d\n"
     ]
    },
    {
     "name": "stdout",
     "output_type": "stream",
     "text": [
      "> \u001b[1;32mc:\\users\\anasa\\anaconda3\\lib\\site-packages\\rfml\\data\\dataset_builder.py\u001b[0m(156)\u001b[0;36mbuild\u001b[1;34m()\u001b[0m\n",
      "\u001b[1;32m    153 \u001b[1;33m        \u001b[0mReturns\u001b[0m\u001b[1;33m:\u001b[0m\u001b[1;33m\u001b[0m\u001b[1;33m\u001b[0m\u001b[0m\n",
      "\u001b[0m\u001b[1;32m    154 \u001b[1;33m            \u001b[0mDataset\u001b[0m\u001b[1;33m:\u001b[0m \u001b[0mA\u001b[0m \u001b[0mcompiled\u001b[0m \u001b[0mdataset\u001b[0m \u001b[0mconsisting\u001b[0m \u001b[0mof\u001b[0m \u001b[0mthe\u001b[0m \u001b[0madded\u001b[0m \u001b[0mexamples\u001b[0m\u001b[1;33m.\u001b[0m\u001b[1;33m\u001b[0m\u001b[1;33m\u001b[0m\u001b[0m\n",
      "\u001b[0m\u001b[1;32m    155 \u001b[1;33m        \"\"\"\n",
      "\u001b[0m\u001b[1;32m--> 156 \u001b[1;33m        \u001b[0mdf\u001b[0m \u001b[1;33m=\u001b[0m \u001b[0mpd\u001b[0m\u001b[1;33m.\u001b[0m\u001b[0mDataFrame\u001b[0m\u001b[1;33m(\u001b[0m\u001b[0mself\u001b[0m\u001b[1;33m.\u001b[0m\u001b[0m_rows\u001b[0m\u001b[1;33m,\u001b[0m \u001b[0mcolumns\u001b[0m\u001b[1;33m=\u001b[0m\u001b[0mself\u001b[0m\u001b[1;33m.\u001b[0m\u001b[0m_keys\u001b[0m\u001b[1;33m)\u001b[0m\u001b[1;33m\u001b[0m\u001b[1;33m\u001b[0m\u001b[0m\n",
      "\u001b[0m\u001b[1;32m    157 \u001b[1;33m        \u001b[1;32mreturn\u001b[0m \u001b[0mDataset\u001b[0m\u001b[1;33m(\u001b[0m\u001b[0mdf\u001b[0m\u001b[1;33m)\u001b[0m\u001b[1;33m\u001b[0m\u001b[1;33m\u001b[0m\u001b[0m\n",
      "\u001b[0m\n"
     ]
    }
   ],
   "source": [
    "%debug"
   ]
  },
  {
   "cell_type": "code",
   "execution_count": null,
   "id": "e54725fb-49dd-4ebb-b79e-e0dffdd6b715",
   "metadata": {},
   "outputs": [],
   "source": []
  }
 ],
 "metadata": {
  "kernelspec": {
   "display_name": "Python 3 (ipykernel)",
   "language": "python",
   "name": "python3"
  },
  "language_info": {
   "codemirror_mode": {
    "name": "ipython",
    "version": 3
   },
   "file_extension": ".py",
   "mimetype": "text/x-python",
   "name": "python",
   "nbconvert_exporter": "python",
   "pygments_lexer": "ipython3",
   "version": "3.12.4"
  }
 },
 "nbformat": 4,
 "nbformat_minor": 5
}
