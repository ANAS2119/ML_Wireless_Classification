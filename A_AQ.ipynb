importr te 
adjhwqd 

wdewfew fwe

